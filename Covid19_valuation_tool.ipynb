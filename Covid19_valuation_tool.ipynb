{
 "cells": [
  {
   "cell_type": "code",
   "execution_count": 1,
   "metadata": {},
   "outputs": [],
   "source": [
    "from sklearn.datasets import load_boston\n",
    "from sklearn.linear_model import LinearRegression\n",
    "from sklearn.metrics import mean_squared_error\n",
    "\n",
    "import pandas as pd\n",
    "import numpy as np"
   ]
  },
  {
   "cell_type": "code",
   "execution_count": 2,
   "metadata": {},
   "outputs": [],
   "source": [
    "data = pd.read_csv('delhi_dataset.csv')"
   ]
  },
  {
   "cell_type": "code",
   "execution_count": 3,
   "metadata": {},
   "outputs": [],
   "source": [
    "target = pd.DataFrame(np.log(data['Total_Confirmed_cases_till_date']), columns=['Total_Confirmed_cases_till_date'])\n",
    "features = data.drop(['Total_Confirmed_cases_till_date', 'Date', 'Name_of_state', 'Population' ,\n",
    "                      'Latitude', 'Longitude' ,'Recovered_till_date','Mortality_Rate_in_percent',\n",
    "                      'Min_Temperature_in_Degrees', 'Max_Temperature_in_Degrees'], axis= 1)\n",
    "features['log_Recovered_till_date'] = np.log(data['Recovered_till_date'])\n",
    "#features['log_death_till_date'] = np.log(data['Death_till_date'])"
   ]
  },
  {
   "cell_type": "code",
   "execution_count": 4,
   "metadata": {},
   "outputs": [
    {
     "name": "stdout",
     "output_type": "stream",
     "text": [
      "Death_till_date                     170.481481\n",
      "Total_Test_till_date             109009.129630\n",
      "Case_Fatality_Rate_in_percent         0.018167\n",
      "log_Recovered_till_date               7.403226\n",
      "dtype: float64\n"
     ]
    }
   ],
   "source": [
    "death_idx = 0\n",
    "test_idx = 1\n",
    "fatality_idx = 2\n",
    "recover_idx = 3\n",
    "\n",
    "print(features.mean())\n",
    "features_stats = features.mean().values.reshape(1, 4)"
   ]
  },
  {
   "cell_type": "code",
   "execution_count": 5,
   "metadata": {},
   "outputs": [],
   "source": [
    "regr = LinearRegression().fit(features, target)\n",
    "fitted_vals = regr.predict(features)\n",
    "\n",
    "MSE = mean_squared_error(target, fitted_vals)\n",
    "RMSE = np.sqrt(MSE)"
   ]
  },
  {
   "cell_type": "code",
   "execution_count": 6,
   "metadata": {},
   "outputs": [],
   "source": [
    "def get_log_estimate(deaths,test, fatality, recovered,  high_confidence = True):\n",
    "    features_stats[0][death_idx] = deaths\n",
    "    features_stats[0][test_idx] = test\n",
    "    features_stats[0][fatality_idx] = fatality\n",
    "    features_stats[0][recover_idx] = np.log(recovered)\n",
    "    \n",
    "    estimate = regr.predict(features_stats)[0][0]    \n",
    "    \n",
    "    if high_confidence:\n",
    "        upper_bound = estimate + 2*RMSE\n",
    "        lower_bound = estimate - 2*RMSE\n",
    "        interval = 95\n",
    "    else:\n",
    "        upper_bound = estimate + RMSE\n",
    "        lower_bound = estimate - RMSE\n",
    "        interval = 68\n",
    "    \n",
    "    return estimate, upper_bound, lower_bound, interval"
   ]
  },
  {
   "cell_type": "code",
   "execution_count": 7,
   "metadata": {},
   "outputs": [],
   "source": [
    "def get_covid_estimate(deaths_till_date,total_test_till_date, fatality_rate, recovered_till_date,  large_range=True):\n",
    "    \n",
    "    \"\"\"\n",
    "    This Function Calculates the total number of confirmed corona virus victims in delhi.\n",
    "        This function take five parameteres.\n",
    "        \n",
    "        Parameters:\n",
    "        deaths_till_date : It is the total number of death till date.\n",
    "        total_test_till_date : It is the total number of coronavirus test performed till date.\n",
    "        fatality_rate : It is the ratio of number of death till that date to tha number of confirmed cases till that date.\n",
    "        recovered_till_date : It is the total number of recovered patient.\n",
    "        high_confidence : It tell to include 95% observational dataif true ,else it will include 68% of the observational data.\n",
    "        \n",
    "    \n",
    "    \"\"\"\n",
    "\n",
    "    log_est, upper, lower, conf = get_log_estimate( deaths = deaths_till_date, test = total_test_till_date,\n",
    "                                                   fatality= fatality_rate,\n",
    "                                                   recovered = recovered_till_date, high_confidence = large_range)\n",
    "    \n",
    "    covid_cases = np.e**(log_est)\n",
    "    upper = np.e**(upper)\n",
    "    lower = np.e**(lower)\n",
    "    confirmed = print(f' Number of confirmed cases till date is {covid_cases}')\n",
    "    Range= print(f'The range of confirmed cases is from {round(lower,3)} to {round(upper,3)}')\n",
    "    return  "
   ]
  },
  {
   "cell_type": "code",
   "execution_count": 8,
   "metadata": {},
   "outputs": [
    {
     "name": "stdout",
     "output_type": "stream",
     "text": [
      " Number of confirmed cases till date is 26652.73276387813\n",
      "The range of confirmed cases is from 24632.094 to 28839.13\n"
     ]
    }
   ],
   "source": [
    "get_covid_estimate(deaths_till_date = 708,total_test_till_date = 246873,\n",
    "                   fatality_rate = 0.027, recovered_till_date = 10315)"
   ]
  },
  {
   "cell_type": "code",
   "execution_count": null,
   "metadata": {},
   "outputs": [],
   "source": []
  }
 ],
 "metadata": {
  "kernelspec": {
   "display_name": "Python 3",
   "language": "python",
   "name": "python3"
  },
  "language_info": {
   "codemirror_mode": {
    "name": "ipython",
    "version": 3
   },
   "file_extension": ".py",
   "mimetype": "text/x-python",
   "name": "python",
   "nbconvert_exporter": "python",
   "pygments_lexer": "ipython3",
   "version": "3.8.5"
  }
 },
 "nbformat": 4,
 "nbformat_minor": 2
}
